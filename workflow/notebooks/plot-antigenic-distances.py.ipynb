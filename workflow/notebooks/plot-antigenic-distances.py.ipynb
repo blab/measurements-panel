{
 "cells": [
  {
   "cell_type": "code",
   "execution_count": null,
   "id": "nasty-statement",
   "metadata": {
    "scrolled": true
   },
   "outputs": [],
   "source": [
    "import altair as alt\n",
    "import numpy as np\n",
    "import pandas as pd"
   ]
  },
  {
   "cell_type": "code",
   "execution_count": null,
   "id": "desirable-column",
   "metadata": {
    "scrolled": true
   },
   "outputs": [],
   "source": [
    "df = pd.read_csv(\n",
    "    snakemake.input.distances,\n",
    "    sep=\"\\t\"\n",
    ")"
   ]
  },
  {
   "cell_type": "code",
   "execution_count": null,
   "id": "located-pasta",
   "metadata": {
    "scrolled": true
   },
   "outputs": [],
   "source": [
    "df.head()"
   ]
  },
  {
   "cell_type": "code",
   "execution_count": null,
   "id": "satisfactory-textbook",
   "metadata": {
    "scrolled": true
   },
   "outputs": [],
   "source": [
    "df[\"log2_titer\"] = np.round(df[\"log2_titer_mean\"], 1)"
   ]
  },
  {
   "cell_type": "code",
   "execution_count": null,
   "id": "electrical-thanksgiving",
   "metadata": {
    "scrolled": true
   },
   "outputs": [],
   "source": [
    "font_size = 14"
   ]
  },
  {
   "cell_type": "code",
   "execution_count": null,
   "id": "improving-payday",
   "metadata": {
    "scrolled": true
   },
   "outputs": [],
   "source": [
    "base = alt.Chart(df).encode(\n",
    "    x=alt.X(\n",
    "        \"clade_reference:N\",\n",
    "        title=\"reference strain clade\"\n",
    "    ),\n",
    "    y=alt.Y(\n",
    "        \"clade_test:N\",\n",
    "        title=\"test strain clade\"\n",
    "    )\n",
    ").properties(\n",
    "    width=700,\n",
    "    height=700\n",
    ")\n",
    "\n",
    "heatmap = base.mark_rect().encode(\n",
    "    color=alt.Color(\n",
    "        \"log2_titer:Q\",\n",
    "        scale=alt.Scale(\n",
    "            scheme=\"blueorange\",\n",
    "            domain=[-2.0, 7.0],\n",
    "            domainMid=0.0,\n",
    "        ),\n",
    "        legend=alt.Legend(\n",
    "            direction=\"vertical\",\n",
    "            title=\"log2 titer\",\n",
    "        )\n",
    "    )\n",
    ")\n",
    "\n",
    "text = base.mark_text(baseline=\"middle\").encode(\n",
    "    text=\"log2_titer:Q\",\n",
    "    color=alt.condition(\n",
    "        (alt.datum.log2_titer < 3.5) & (alt.datum.log2_titer > -1),\n",
    "        alt.value(\"black\"),\n",
    "        alt.value(\"white\")\n",
    "    )\n",
    ")\n",
    "\n",
    "chart = heatmap + text\n",
    "chart = chart.configure(\n",
    "    text=alt.MarkConfig(fontSize=font_size)\n",
    ").configure_axis(\n",
    "    labelFontSize=font_size,\n",
    "    titleFontSize=font_size,\n",
    ").configure_legend(    \n",
    "    labelFontSize=font_size,\n",
    "    titleFontSize=font_size,\n",
    ")\n",
    "chart"
   ]
  },
  {
   "cell_type": "code",
   "execution_count": null,
   "id": "biblical-joseph",
   "metadata": {
    "scrolled": true
   },
   "outputs": [],
   "source": [
    "chart.save(snakemake.output.plot)"
   ]
  },
  {
   "cell_type": "code",
   "execution_count": null,
   "id": "capable-standard",
   "metadata": {
    "scrolled": false
   },
   "outputs": [],
   "source": [
    "len(set(df[\"clade_reference\"].values) | set(df[\"clade_test\"].values))"
   ]
  },
  {
   "cell_type": "code",
   "execution_count": null,
   "id": "hindu-usage",
   "metadata": {
    "scrolled": true
   },
   "outputs": [],
   "source": [
    "df.shape"
   ]
  },
  {
   "cell_type": "code",
   "execution_count": null,
   "id": "underlying-environment",
   "metadata": {
    "scrolled": true
   },
   "outputs": [],
   "source": [
    "df.query(\"clade_reference == clade_test\").shape"
   ]
  },
  {
   "cell_type": "code",
   "execution_count": null,
   "id": "synthetic-jacket",
   "metadata": {
    "scrolled": true
   },
   "outputs": [],
   "source": [
    "np.round(\n",
    "    df.query(\"clade_reference == clade_test\")[\"log2_titer\"].aggregate([\"mean\", \"std\"]),\n",
    "    2\n",
    ")"
   ]
  },
  {
   "cell_type": "code",
   "execution_count": null,
   "id": "adult-impression",
   "metadata": {
    "scrolled": true
   },
   "outputs": [],
   "source": [
    "np.round(\n",
    "    df.query(\"clade_reference == clade_test\")[\"log2_titer\"].aggregate([\"mean\", \"std\"]),\n",
    "    2\n",
    ").sum()"
   ]
  },
  {
   "cell_type": "code",
   "execution_count": null,
   "id": "competitive-stroke",
   "metadata": {
    "scrolled": true
   },
   "outputs": [],
   "source": [
    "np.round(\n",
    "    df.query(\"clade_reference != clade_test\")[\"log2_titer\"].aggregate([\"mean\", \"std\"]),\n",
    "    2\n",
    ")"
   ]
  },
  {
   "cell_type": "code",
   "execution_count": null,
   "id": "annual-surgeon",
   "metadata": {
    "scrolled": true
   },
   "outputs": [],
   "source": [
    "df.query(\"clade_reference != clade_test\")[\"log2_titer\"].describe()"
   ]
  },
  {
   "cell_type": "code",
   "execution_count": null,
   "id": "norwegian-treasury",
   "metadata": {
    "scrolled": true
   },
   "outputs": [],
   "source": []
  }
 ],
 "metadata": {
  "kernelspec": {
   "display_name": "Python 3",
   "language": "python",
   "name": "python3"
  },
  "language_info": {
   "codemirror_mode": {
    "name": "ipython",
    "version": 3
   },
   "file_extension": ".py",
   "mimetype": "text/x-python",
   "name": "python",
   "nbconvert_exporter": "python",
   "pygments_lexer": "ipython3",
   "version": "3.9.2"
  }
 },
 "nbformat": 4,
 "nbformat_minor": 5
}
