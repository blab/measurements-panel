{
 "cells": [
  {
   "cell_type": "markdown",
   "id": "8559a1ab-14e0-4123-a303-6e696b9ad756",
   "metadata": {},
   "source": [
    "# Static visualizations of influenza serology measurements\n",
    "\n",
    "The following notebook demonstrates different static visualizations of influenza serology measurements.\n",
    "These visualizations were designed to aid decision-making during influenza vaccine strain selection.\n",
    "The primary questions we want to answer with each visualization are:\n",
    "\n",
    " - Which reference serum best covers the other circulating clades?\n",
    " - Which clades are not covered by any sera?"
   ]
  },
  {
   "cell_type": "markdown",
   "id": "cf5e1845-b62a-43c5-abe7-6dae3fef9a25",
   "metadata": {},
   "source": [
    "## Setup"
   ]
  },
  {
   "cell_type": "code",
   "execution_count": null,
   "id": "committed-shakespeare",
   "metadata": {},
   "outputs": [],
   "source": [
    "import altair as alt\n",
    "from altair_saver import save\n",
    "import matplotlib as mpl\n",
    "import matplotlib.pyplot as plt\n",
    "import numpy as np\n",
    "import pandas as pd\n",
    "import seaborn as sns\n",
    "\n",
    "%matplotlib inline"
   ]
  },
  {
   "cell_type": "code",
   "execution_count": null,
   "id": "marked-mitchell",
   "metadata": {},
   "outputs": [],
   "source": [
    "sns.set_style(\"ticks\")"
   ]
  },
  {
   "cell_type": "code",
   "execution_count": null,
   "id": "everyday-baker",
   "metadata": {},
   "outputs": [],
   "source": [
    "mpl.rcParams['figure.dpi'] = 150\n",
    "mpl.rcParams['font.size'] = 14\n",
    "mpl.rcParams['axes.labelsize'] = 14\n",
    "mpl.rcParams['legend.fontsize'] = 12\n",
    "mpl.rcParams['xtick.labelsize'] = 14\n",
    "mpl.rcParams['ytick.labelsize'] = 14"
   ]
  },
  {
   "cell_type": "code",
   "execution_count": null,
   "id": "17c50921-0162-4cdd-bfd3-c31b5131d192",
   "metadata": {},
   "outputs": [],
   "source": [
    "color_by_clade = {}"
   ]
  },
  {
   "cell_type": "code",
   "execution_count": null,
   "id": "bf273e9f-c948-4088-aa46-828013a820d3",
   "metadata": {},
   "outputs": [],
   "source": [
    "color_by_clade[\"158N/189K\"] = \"#9ebe5a\"\n",
    "color_by_clade[\"144K\"] = \"#5aa4a8\"\n",
    "color_by_clade[\"173Q\"] = \"#e0a23a\""
   ]
  },
  {
   "cell_type": "code",
   "execution_count": null,
   "id": "lyric-international",
   "metadata": {},
   "outputs": [],
   "source": [
    "color_by_clade"
   ]
  },
  {
   "cell_type": "code",
   "execution_count": null,
   "id": "8f50a57d-e4bd-425a-93a3-d2e4efd82e4e",
   "metadata": {},
   "outputs": [],
   "source": [
    "clade_order = [\"158N/189K\", \"144K\", \"173Q\"]"
   ]
  },
  {
   "cell_type": "code",
   "execution_count": null,
   "id": "bcd4d451-7bd3-495a-9d80-bf8117c50672",
   "metadata": {},
   "outputs": [],
   "source": [
    "references = [\n",
    "    \"A/Wisconsin/67/2005\",\n",
    "    \"A/Brisbane/10/2007\",\n",
    "    \"A/Perth/16/2009\",\n",
    "]"
   ]
  },
  {
   "cell_type": "code",
   "execution_count": null,
   "id": "12463a3e-6da3-4ecd-b74b-b6168c954fd9",
   "metadata": {},
   "outputs": [],
   "source": [
    "reference_order = [\n",
    "    'A/Perth/16/2009\\n(144K)',\n",
    "    'A/Brisbane/10/2007\\n(140I)',\n",
    "    'A/Wisconsin/67/2005\\n(193F/225N)',\n",
    "]"
   ]
  },
  {
   "cell_type": "markdown",
   "id": "numeric-stanford",
   "metadata": {},
   "source": [
    "## Prepare titer data\n",
    "\n",
    "Select titer measurements for recent strains (those from the last year), identify the reference strains with the most measurements, and visualize the antigenic distances between clades using these measurements."
   ]
  },
  {
   "cell_type": "code",
   "execution_count": null,
   "id": "daily-steal",
   "metadata": {},
   "outputs": [],
   "source": [
    "df = pd.read_csv(\n",
    "    \"../../results/h3n2/antigenic_distances_between_strains.tsv\",\n",
    "    sep=\"\\t\"\n",
    ")"
   ]
  },
  {
   "cell_type": "code",
   "execution_count": null,
   "id": "third-mention",
   "metadata": {},
   "outputs": [],
   "source": [
    "df.head()"
   ]
  },
  {
   "cell_type": "code",
   "execution_count": null,
   "id": "removable-alaska",
   "metadata": {},
   "outputs": [],
   "source": [
    "df[\"reference_name\"] = df.apply(lambda row: f\"{row['reference_strain']}\\n({row['clade_reference']})\", axis=1)"
   ]
  },
  {
   "cell_type": "code",
   "execution_count": null,
   "id": "c023a0c4-747f-468a-ad72-b1f3f26ac76d",
   "metadata": {},
   "outputs": [],
   "source": [
    "is_selected_reference = df[\"reference_strain\"].isin(references)\n",
    "is_selected_test_clade = df[\"clade_test\"].isin(clade_order)"
   ]
  },
  {
   "cell_type": "code",
   "execution_count": null,
   "id": "egyptian-consultation",
   "metadata": {},
   "outputs": [],
   "source": [
    "filtered_df = df[(is_selected_reference) & (is_selected_test_clade)].copy()"
   ]
  },
  {
   "cell_type": "code",
   "execution_count": null,
   "id": "headed-protest",
   "metadata": {},
   "outputs": [],
   "source": [
    "filtered_df.shape"
   ]
  },
  {
   "cell_type": "code",
   "execution_count": null,
   "id": "false-simon",
   "metadata": {},
   "outputs": [],
   "source": [
    "filtered_df.head()"
   ]
  },
  {
   "cell_type": "markdown",
   "id": "e3f696b5-57d4-48c3-b71b-1c542baa824d",
   "metadata": {},
   "source": [
    "## Plot mean titer distances by clade per reference strain"
   ]
  },
  {
   "cell_type": "code",
   "execution_count": null,
   "id": "employed-pride",
   "metadata": {},
   "outputs": [],
   "source": [
    "grouped_df = filtered_df.loc[filtered_df[\"reference_name\"].isin(reference_order)].groupby([\"reference_name\", \"clade_test\"]).aggregate({\n",
    "    \"log2_titer\": \"mean\",\n",
    "    \"test_strain\": \"count\"\n",
    "}).reset_index()"
   ]
  },
  {
   "cell_type": "code",
   "execution_count": null,
   "id": "deluxe-onion",
   "metadata": {},
   "outputs": [],
   "source": [
    "grouped_df[\"log2_titer\"] = np.round(grouped_df[\"log2_titer\"], 2)"
   ]
  },
  {
   "cell_type": "code",
   "execution_count": null,
   "id": "advised-optics",
   "metadata": {},
   "outputs": [],
   "source": [
    "grouped_df"
   ]
  },
  {
   "cell_type": "code",
   "execution_count": null,
   "id": "fc9f375c-5b0a-41d5-ba9b-c442295d5ee4",
   "metadata": {},
   "outputs": [],
   "source": [
    "pivot_df = grouped_df.pivot_table(\n",
    "    values=\"log2_titer\",\n",
    "    index=\"reference_name\",\n",
    "    columns=\"clade_test\",\n",
    ")"
   ]
  },
  {
   "cell_type": "code",
   "execution_count": null,
   "id": "ab769f14-9b57-423b-95a8-f57aff09e874",
   "metadata": {},
   "outputs": [],
   "source": [
    "font_size = 14"
   ]
  },
  {
   "cell_type": "code",
   "execution_count": null,
   "id": "713b37fd-816e-4425-8765-459e2a8f096b",
   "metadata": {},
   "outputs": [],
   "source": [
    "fig, ax = plt.subplots(1, 1, figsize=(4, 4), dpi=100)\n",
    "ax = sns.heatmap(\n",
    "    data=pivot_df,\n",
    "    annot=True,\n",
    "    cmap=\"vlag\",\n",
    "    center=0.0,\n",
    "    vmin=-2.0,\n",
    "    vmax=7.0,\n",
    "    ax=ax,\n",
    ")\n",
    "\n",
    "ax.set_xlabel(\"Test virus clade\")\n",
    "ax.set_ylabel(\"Reference strain\")"
   ]
  },
  {
   "cell_type": "code",
   "execution_count": null,
   "id": "unavailable-clearance",
   "metadata": {},
   "outputs": [],
   "source": [
    "base = alt.Chart(grouped_df).encode(\n",
    "    x=alt.X(\n",
    "        \"clade_test:N\",\n",
    "        sort=clade_order,\n",
    "        title=\"Test virus clade\",\n",
    "        axis=alt.Axis(labelAngle=0),\n",
    "    ),\n",
    "    y=alt.Y(\n",
    "        \"reference_name:N\",\n",
    "        sort=reference_order,\n",
    "        title=\"Reference strain\",\n",
    "    )\n",
    ").properties(\n",
    "    width=400,\n",
    "    height=400,\n",
    ")\n",
    "\n",
    "heatmap = base.mark_rect().encode(\n",
    "    color=alt.Color(\n",
    "        \"log2_titer:Q\",\n",
    "        scale=alt.Scale(\n",
    "            scheme=\"blueorange\",\n",
    "            domain=[-2.0, 7.0],\n",
    "            domainMid=0.0,\n",
    "        ),\n",
    "        legend=alt.Legend(\n",
    "            direction=\"vertical\",\n",
    "            title=\"log2 titer\",\n",
    "        )\n",
    "    )\n",
    ")\n",
    "\n",
    "text = base.mark_text(baseline=\"middle\").encode(\n",
    "    text=\"log2_titer:Q\",\n",
    "    color=alt.value(\"black\"),\n",
    ")\n",
    "\n",
    "chart = heatmap + text\n",
    "chart.configure_text(\n",
    "    fontSize=font_size,\n",
    ").configure_axis(\n",
    "    titleFontSize=font_size,\n",
    "    labelFontSize=font_size - 2,\n",
    ").configure_legend(\n",
    "    titleFontSize=font_size,\n",
    "    labelFontSize=font_size,\n",
    ")\n",
    "\n",
    "save(chart, \"../../manuscript/figures/figure-1b-titer-heatmap.pdf\")"
   ]
  },
  {
   "cell_type": "code",
   "execution_count": null,
   "id": "3a09e653-e7ed-403c-84fd-1fcae5f79537",
   "metadata": {},
   "outputs": [],
   "source": [
    "chart"
   ]
  },
  {
   "cell_type": "markdown",
   "id": "liable-studio",
   "metadata": {},
   "source": [
    "## Plot data by reference strain"
   ]
  },
  {
   "cell_type": "code",
   "execution_count": null,
   "id": "latest-spending",
   "metadata": {},
   "outputs": [],
   "source": [
    "# Initialize the figure\n",
    "fig, ax = plt.subplots(1, 1, figsize=(8, 6))\n",
    "sns.despine()\n",
    "\n",
    "# Plot conditional means.\n",
    "sns.pointplot(\n",
    "    x=\"log2_titer\",\n",
    "    y=\"reference_name\",\n",
    "    hue=\"clade_test\",\n",
    "    order=reference_order,\n",
    "    hue_order=clade_order,\n",
    "    data=filtered_df,\n",
    "    dodge=0.55,\n",
    "    join=False,\n",
    "    palette=color_by_clade,\n",
    "    markers=\"d\",\n",
    "    scale=0.75,\n",
    "    errorbar=(\"ci\", 89),\n",
    ")\n",
    "\n",
    "# Draw a line at the traditional threshold used to denote antigenic drift.\n",
    "ax.axvline(\n",
    "    x=2.0,\n",
    "    color=\"#000000\",\n",
    "    alpha=0.25,\n",
    "    zorder=-10\n",
    ")\n",
    "\n",
    "# Draw a line at the y-axis as a guide.\n",
    "ax.axvline(\n",
    "    x=0.0,\n",
    "    color=\"#000000\",\n",
    "    alpha=0.25,\n",
    "    zorder=-10,\n",
    "    linestyle=\"dashed\",\n",
    ")\n",
    "\n",
    "ax.set_xlabel(\"$\\log_{2}$ normalized titer\")\n",
    "ax.set_ylabel(\"Reference strain\")\n",
    "\n",
    "# Improve the legend\n",
    "number_of_clades = filtered_df[\"clade_test\"].drop_duplicates().shape[0]\n",
    "handles, labels = ax.get_legend_handles_labels()\n",
    "ax.legend(\n",
    "    handles[:number_of_clades],\n",
    "    labels[:number_of_clades],\n",
    "    title=\"clade (test strains)\",\n",
    "    handletextpad=0,\n",
    "    columnspacing=1,\n",
    "    loc=\"upper right\",\n",
    "    ncol=1,\n",
    "    frameon=False\n",
    ")\n",
    "\n",
    "plt.tight_layout()\n",
    "plt.savefig(\"../../manuscript/figures/figure-1c-titer-distributions.pdf\", dpi=200)"
   ]
  },
  {
   "cell_type": "code",
   "execution_count": null,
   "id": "cooked-recorder",
   "metadata": {},
   "outputs": [],
   "source": [
    "# Initialize the figure\n",
    "fig, ax = plt.subplots(1, 1, figsize=(8, 6))\n",
    "sns.despine()\n",
    "\n",
    "# Show each observation with a scatterplot\n",
    "sns.stripplot(\n",
    "    x=\"log2_titer\",\n",
    "    y=\"reference_name\",\n",
    "    hue=\"clade_test\",\n",
    "    order=reference_order,\n",
    "    hue_order=clade_order,\n",
    "    data=filtered_df,\n",
    "    palette=color_by_clade,\n",
    "    dodge=True,\n",
    "    alpha=0.5,\n",
    "    jitter=0.2,\n",
    "    zorder=1\n",
    ")\n",
    "\n",
    "# Plot conditional means.\n",
    "sns.pointplot(\n",
    "    x=\"log2_titer\",\n",
    "    y=\"reference_name\",\n",
    "    hue=\"clade_test\",\n",
    "    order=reference_order,\n",
    "    hue_order=clade_order,\n",
    "    data=filtered_df,\n",
    "    dodge=0.55,\n",
    "    join=False,\n",
    "    palette=color_by_clade,\n",
    "    markers=\"d\",\n",
    "    scale=0.75,\n",
    "    errorbar=(\"ci\", 89),\n",
    ")\n",
    "\n",
    "# Draw a line at the traditional threshold used to denote antigenic drift.\n",
    "ax.axvline(\n",
    "    x=2.0,\n",
    "    color=\"#000000\",\n",
    "    alpha=0.25,\n",
    "    zorder=-10\n",
    ")\n",
    "\n",
    "# Draw a line at the y-axis as a guide.\n",
    "ax.axvline(\n",
    "    x=0.0,\n",
    "    color=\"#000000\",\n",
    "    alpha=0.25,\n",
    "    zorder=-10,\n",
    "    linestyle=\"dashed\",\n",
    ")\n",
    "\n",
    "ax.set_xlabel(\"$\\log_{2}$ normalized titer\")\n",
    "ax.set_ylabel(\"Reference strain\")\n",
    "\n",
    "# Improve the legend\n",
    "number_of_clades = filtered_df[\"clade_test\"].drop_duplicates().shape[0]\n",
    "handles, labels = ax.get_legend_handles_labels()\n",
    "ax.legend(\n",
    "    handles[:number_of_clades],\n",
    "    labels[:number_of_clades],\n",
    "    title=\"clade (test strains)\",\n",
    "    handletextpad=0,\n",
    "    columnspacing=1,\n",
    "    loc=\"upper right\",\n",
    "    ncol=1,\n",
    "    frameon=False\n",
    ")\n",
    "\n",
    "plt.tight_layout()\n",
    "plt.savefig(\"../../manuscript/figures/figure-1d-titer-distributions-and-raw-data.pdf\", dpi=200)"
   ]
  },
  {
   "cell_type": "code",
   "execution_count": null,
   "id": "physical-facility",
   "metadata": {},
   "outputs": [],
   "source": []
  }
 ],
 "metadata": {
  "kernelspec": {
   "display_name": "Python 3 (ipykernel)",
   "language": "python",
   "name": "python3"
  },
  "language_info": {
   "codemirror_mode": {
    "name": "ipython",
    "version": 3
   },
   "file_extension": ".py",
   "mimetype": "text/x-python",
   "name": "python",
   "nbconvert_exporter": "python",
   "pygments_lexer": "ipython3",
   "version": "3.8.13"
  }
 },
 "nbformat": 4,
 "nbformat_minor": 5
}
